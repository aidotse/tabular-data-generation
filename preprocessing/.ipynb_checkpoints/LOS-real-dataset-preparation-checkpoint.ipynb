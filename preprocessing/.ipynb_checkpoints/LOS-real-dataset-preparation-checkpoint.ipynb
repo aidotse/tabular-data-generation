{
 "cells": [
  {
   "cell_type": "code",
   "execution_count": 1,
   "metadata": {
    "id": "10qlN8Gin7Tj"
   },
   "outputs": [],
   "source": [
    "import pandas as pd\n",
    "import numpy as np\n",
    "import matplotlib.pyplot as plt\n",
    "import seaborn as sns\n",
    "from sklearn.model_selection import train_test_split\n",
    "import seaborn as sns"
   ]
  },
  {
   "cell_type": "code",
   "execution_count": 2,
   "metadata": {},
   "outputs": [],
   "source": [
    "import warnings\n",
    "warnings.filterwarnings('ignore')"
   ]
  },
  {
   "cell_type": "code",
   "execution_count": 3,
   "metadata": {
    "id": "UaMVkp3pnQjO"
   },
   "outputs": [],
   "source": [
    "# Primary Admissions information\n",
    "#df = pd.read_csv(r\"MIMIC-IV/admissions.csv\")\n",
    "\n",
    "# Patient specific info such as gender\n",
    "#df_pat = pd.read_csv(r\"MIMIC-IV/patients.csv\")\n",
    "\n",
    "# Diagnosis for each admission to hospital\n",
    "#df_diagcode = pd.read_csv(r\"MIMIC-IV/diagnoses_icd.csv\")\n",
    "\n",
    "# Intensive Care Unit (ICU) for each admission to hospital\n",
    "#df_icu = pd.read_csv(r\"MIMIC-IV/icustays.csv\")\n",
    "\n",
    "\n",
    "# Primary Admissions information\n",
    "df = pd.read_csv(\"../MIMIC-IV/admissions.csv\")\n",
    "\n",
    "# Patient specific info such as gender\n",
    "df_pat = pd.read_csv(\"../MIMIC-IV/patients.csv\")\n",
    "\n",
    "# Diagnosis for each admission to hospital\n",
    "df_diagcode = pd.read_csv(\"../MIMIC-IV/diagnoses_icd.csv\")\n",
    "\n",
    "# Intensive Care Unit (ICU) for each admission to hospital\n",
    "df_icu = pd.read_csv(\"../MIMIC-IV/icustays.csv\")"
   ]
  },
  {
   "cell_type": "code",
   "execution_count": 4,
   "metadata": {
    "id": "-fAuVJI_jDal"
   },
   "outputs": [
    {
     "name": "stdout",
     "output_type": "stream",
     "text": [
      "Dataset has 523740 number of unique admission events.\n",
      "Dataset has 256878 number of unique patients.\n"
     ]
    }
   ],
   "source": [
    "print('Dataset has {} number of unique admission events.'.format(df['hadm_id'].nunique()))\n",
    "print('Dataset has {} number of unique patients.'.format(df['subject_id'].nunique()))"
   ]
  },
  {
   "cell_type": "code",
   "execution_count": 5,
   "metadata": {
    "id": "5UpOaYsWnrXV"
   },
   "outputs": [],
   "source": [
    "# Convert admission and discharge times to datetime type\n",
    "df['ADMITTIME'] = pd.to_datetime(df['admittime'])\n",
    "df['DISCHTIME'] = pd.to_datetime(df['dischtime'])\n",
    "\n",
    "# Calculating the Length of Stay variable using the difference between Discharge time and Admit time \n",
    "# Convert timedelta type into float 'days'. Note: There are 86400 seconds in a day\n",
    "df['LOS'] = (df['DISCHTIME'] - df['ADMITTIME']).dt.total_seconds()/86400"
   ]
  },
  {
   "cell_type": "code",
   "execution_count": 6,
   "metadata": {
    "id": "YlsanRTpsVZd"
   },
   "outputs": [
    {
     "data": {
      "text/plain": [
       "count    523740.000000\n",
       "mean          4.563912\n",
       "std           7.598788\n",
       "min          -0.979167\n",
       "25%           1.239583\n",
       "50%           2.673611\n",
       "75%           4.962500\n",
       "max        1191.416667\n",
       "Name: LOS, dtype: float64"
      ]
     },
     "execution_count": 6,
     "metadata": {},
     "output_type": "execute_result"
    }
   ],
   "source": [
    "df['LOS'].describe()"
   ]
  },
  {
   "cell_type": "code",
   "execution_count": 7,
   "metadata": {
    "id": "0a5slR6Vkzim"
   },
   "outputs": [
    {
     "data": {
      "text/plain": [
       "count    523565.000000\n",
       "mean          4.565548\n",
       "std           7.599529\n",
       "min           0.000694\n",
       "25%           1.240972\n",
       "50%           2.674306\n",
       "75%           4.963194\n",
       "max        1191.416667\n",
       "Name: LOS, dtype: float64"
      ]
     },
     "execution_count": 7,
     "metadata": {},
     "output_type": "execute_result"
    }
   ],
   "source": [
    "# Drop rows with negative LOS. The negative LOS means that the patient was brought dead to the ICU.\n",
    "df['LOS'][df['LOS'] > 0].describe()"
   ]
  },
  {
   "cell_type": "code",
   "execution_count": 8,
   "metadata": {
    "id": "OykXExvblviS"
   },
   "outputs": [],
   "source": [
    "# Drop LOS < 0 \n",
    "df = df[df['LOS'] > 0]"
   ]
  },
  {
   "cell_type": "code",
   "execution_count": 9,
   "metadata": {
    "id": "7W_v2_GXlOdu"
   },
   "outputs": [
    {
     "data": {
      "image/png": "[encoded data removed]",
      "text/plain": [
       "<Figure size 432x288 with 1 Axes>"
      ]
     },
     "metadata": {
      "needs_background": "light"
     },
     "output_type": "display_data"
    }
   ],
   "source": [
    "# Plot LOS Distribution\n",
    "plt.hist(df['LOS'], bins=200, color = '0.75')\n",
    "plt.xlim(0, 100)\n",
    "plt.title('Distribution of LOS for all hospital admissions \\n incl. deceased')\n",
    "plt.ylabel('Count')\n",
    "plt.xlabel('Length-of-Stay (days)')\n",
    "plt.tick_params(top=False, right=False) \n",
    "plt.show();"
   ]
  },
  {
   "cell_type": "code",
   "execution_count": 10,
   "metadata": {
    "id": "o2QlAB2-VNWA"
   },
   "outputs": [],
   "source": [
    "# Dropping the columns that are not needed\n",
    "df.drop(columns=['dischtime','DISCHTIME', \n",
    "                'edregtime', 'edouttime', 'hospital_expire_flag'], inplace=True)"
   ]
  },
  {
   "cell_type": "code",
   "execution_count": 11,
   "metadata": {
    "id": "dBVTQZvVVO26"
   },
   "outputs": [],
   "source": [
    "# Mapping the dead and alive value of patients who died in hospital as 1 and 0\n",
    "df['DECEASED'] = df['deathtime'].notnull().map({True:1, False:0})"
   ]
  },
  {
   "cell_type": "code",
   "execution_count": 12,
   "metadata": {
    "id": "zZpCjIGBVQOg"
   },
   "outputs": [
    {
     "name": "stdout",
     "output_type": "stream",
     "text": [
      "9240 of 256796 patients died in the hospital\n"
     ]
    }
   ],
   "source": [
    "print(\"{} of {} patients died in the hospital\".format(df['DECEASED'].sum(), \n",
    "                                                      df['subject_id'].nunique()))"
   ]
  },
  {
   "cell_type": "code",
   "execution_count": 13,
   "metadata": {
    "id": "5OTbMPcUVSPR"
   },
   "outputs": [
    {
     "data": {
      "text/plain": [
       "count    9240.000000\n",
       "mean        9.955018\n",
       "std        19.323110\n",
       "min         0.000694\n",
       "25%         1.906250\n",
       "50%         5.541319\n",
       "75%        12.390625\n",
       "max      1191.416667\n",
       "Name: LOS, dtype: float64"
      ]
     },
     "execution_count": 13,
     "metadata": {},
     "output_type": "execute_result"
    }
   ],
   "source": [
    "# Descriptive analysis of patients who died during the stay in ICU\n",
    "df['LOS'].loc[df['DECEASED'] == 1].describe()"
   ]
  },
  {
   "cell_type": "code",
   "execution_count": 14,
   "metadata": {
    "id": "gEtBATOqVUAi"
   },
   "outputs": [
    {
     "name": "stdout",
     "output_type": "stream",
     "text": [
      "Mean LOS:  4.565548119887445\n",
      "Median LOS:  2.6743055555555557\n",
      "Min LOS:  0.0006944444444444446\n",
      "Max LOS:  1191.4166666666667\n"
     ]
    }
   ],
   "source": [
    "# Descriptive analysis of LOS metric (target variable)\n",
    "mean_los = df['LOS'].mean() \n",
    "median_los = df['LOS'].median()\n",
    "min_los = df['LOS'].min()\n",
    "max_los = df['LOS'].max()\n",
    "\n",
    "print(\"Mean LOS: \",mean_los)\n",
    "print(\"Median LOS: \",median_los)\n",
    "print(\"Min LOS: \",min_los)\n",
    "print(\"Max LOS: \",max_los)"
   ]
  },
  {
   "cell_type": "code",
   "execution_count": 15,
   "metadata": {
    "id": "A_jeKJRreSFk"
   },
   "outputs": [
    {
     "data": {
      "text/plain": [
       "array(['UNKNOWN', 'WHITE', 'OTHER', 'BLACK/AFRICAN AMERICAN', 'ASIAN',\n",
       "       'HISPANIC/LATINO', 'UNABLE TO OBTAIN',\n",
       "       'AMERICAN INDIAN/ALASKA NATIVE'], dtype=object)"
      ]
     },
     "execution_count": 15,
     "metadata": {},
     "output_type": "execute_result"
    }
   ],
   "source": [
    "df['ethnicity'].unique()"
   ]
  },
  {
   "cell_type": "code",
   "execution_count": 16,
   "metadata": {
    "id": "wICywTxqVV_x"
   },
   "outputs": [
    {
     "data": {
      "text/plain": [
       "WHITE                     337533\n",
       "BLACK/AFRICAN AMERICAN     80270\n",
       "OTHER/UNKNOWN              51447\n",
       "HISPANIC/LATINO            29816\n",
       "ASIAN                      24499\n",
       "Name: ethnicity, dtype: int64"
      ]
     },
     "execution_count": 16,
     "metadata": {},
     "output_type": "execute_result"
    }
   ],
   "source": [
    "# Club the Ethnicity categories into 5 broad categories\n",
    "df['ethnicity'].replace(regex=r'^ASIAN\\D*', value='ASIAN', inplace=True)\n",
    "df['ethnicity'].replace(regex=r'^WHITE\\D*', value='WHITE', inplace=True)\n",
    "df['ethnicity'].replace(regex=r'^HISPANIC\\D*', value='HISPANIC/LATINO', inplace=True)\n",
    "df['ethnicity'].replace(regex=r'^BLACK\\D*', value='BLACK/AFRICAN AMERICAN', inplace=True)\n",
    "df['ethnicity'].replace(['UNABLE TO OBTAIN', 'OTHER',\n",
    "                         'UNKNOWN'], value='OTHER/UNKNOWN', inplace=True)\n",
    "df['ethnicity'].loc[~df['ethnicity'].isin(df['ethnicity'].value_counts().nlargest(5).index.tolist())] = 'OTHER/UNKNOWN'\n",
    "df['ethnicity'].value_counts()"
   ]
  },
  {
   "cell_type": "code",
   "execution_count": 17,
   "metadata": {
    "id": "8fvfJPvxVZnp"
   },
   "outputs": [],
   "source": [
    "# Bar plot function\n",
    "def plot_los_groupby(variable, size=(7,4)):\n",
    "    ''' \n",
    "    Plot Median LOS by df categorical series name \n",
    "    '''\n",
    "    results = df[[variable, 'LOS']].groupby(variable).median().reset_index()\n",
    "    values = list(results['LOS'].values)\n",
    "    labels = list(results[variable].values)\n",
    "\n",
    "    fig, ax = plt.subplots(figsize=size)\n",
    "    ind = range(len(results))\n",
    "    ax.barh(ind, values, align='center', height=0.6, color = '#55a868', alpha=0.8)\n",
    "    ax.set_yticks(ind)\n",
    "    ax.set_yticklabels(labels)\n",
    "    ax.set_xlabel('Median Length of Stay (days)')\n",
    "    ax.tick_params(left=False, top=False, right=False) \n",
    "    ax.set_title('Comparison of {} labels'.format(variable))\n",
    "    \n",
    "    plt.tight_layout()\n",
    "    plt.show();\n",
    "    \n",
    "# Boxplot function\n",
    "def boxplot_los_groupby(variable, los_range=(-1, 30), size=(8,4)):\n",
    "    ''' \n",
    "    Boxplot of LOS by df categorical series name \n",
    "    '''\n",
    "    results = df[[variable, 'LOS']].groupby(variable).median().reset_index()\n",
    "\n",
    "    categories = results[variable].values.tolist()\n",
    "\n",
    "    hist_data = []\n",
    "    for cat in categories:\n",
    "        hist_data.append(df['LOS'].loc[df[variable]==cat].values)\n",
    "\n",
    "    _, ax = plt.subplots(figsize=size)\n",
    "    ax.boxplot(hist_data, 0, '', vert=False)\n",
    "    ax.set_xlim(los_range)\n",
    "    ax.set_yticklabels(categories)\n",
    "    ax.set_xlabel('Length of Stay (days)')\n",
    "    ax.tick_params(left=False, right=False) \n",
    "    ax.set_title('Comparison of {} categories'.format(variable))\n",
    "    plt.tight_layout()\n",
    "    plt.show();"
   ]
  },
  {
   "cell_type": "code",
   "execution_count": 18,
   "metadata": {
    "id": "_oLV6PcLVcmI"
   },
   "outputs": [
    {
     "data": {
      "image/png": "[encoded data removed]",
      "text/plain": [
       "<Figure size 576x288 with 1 Axes>"
      ]
     },
     "metadata": {
      "needs_background": "light"
     },
     "output_type": "display_data"
    }
   ],
   "source": [
    "boxplot_los_groupby('ethnicity', los_range=(-1, 30))"
   ]
  },
  {
   "cell_type": "code",
   "execution_count": 19,
   "metadata": {
    "id": "kI4sZQCaVejI"
   },
   "outputs": [
    {
     "data": {
      "text/plain": [
       "EW EMER.                       157825\n",
       "EU OBSERVATION                 100394\n",
       "ELECTIVE                        72049\n",
       "OBSERVATION ADMIT               55491\n",
       "URGENT                          47919\n",
       "SURGICAL SAME DAY ADMISSION     41071\n",
       "DIRECT EMER.                    21577\n",
       "DIRECT OBSERVATION              19985\n",
       "AMBULATORY OBSERVATION           7254\n",
       "Name: admission_type, dtype: int64"
      ]
     },
     "execution_count": 19,
     "metadata": {},
     "output_type": "execute_result"
    }
   ],
   "source": [
    "df['admission_type'].value_counts()"
   ]
  },
  {
   "cell_type": "code",
   "execution_count": 20,
   "metadata": {
    "id": "t637TKstf61X"
   },
   "outputs": [
    {
     "data": {
      "image/png": "[encoded data removed]",
      "text/plain": [
       "<Figure size 504x288 with 1 Axes>"
      ]
     },
     "metadata": {
      "needs_background": "light"
     },
     "output_type": "display_data"
    }
   ],
   "source": [
    "plot_los_groupby('admission_type')"
   ]
  },
  {
   "cell_type": "code",
   "execution_count": 21,
   "metadata": {
    "id": "7wJki-7ef9Ze"
   },
   "outputs": [
    {
     "data": {
      "image/png": "[encoded data removed]",
      "text/plain": [
       "<Figure size 504x288 with 1 Axes>"
      ]
     },
     "metadata": {
      "needs_background": "light"
     },
     "output_type": "display_data"
    }
   ],
   "source": [
    "boxplot_los_groupby('admission_type', los_range=(-5, 35), size=(7, 4))"
   ]
  },
  {
   "cell_type": "code",
   "execution_count": 22,
   "metadata": {
    "id": "j7ISvMH8gDLr"
   },
   "outputs": [
    {
     "data": {
      "text/plain": [
       "Other       301427\n",
       "Medicare    171309\n",
       "Medicaid     50829\n",
       "Name: insurance, dtype: int64"
      ]
     },
     "execution_count": 22,
     "metadata": {},
     "output_type": "execute_result"
    }
   ],
   "source": [
    "df['insurance'].value_counts()"
   ]
  },
  {
   "cell_type": "code",
   "execution_count": 23,
   "metadata": {
    "id": "uCwFjt7ggVNH"
   },
   "outputs": [
    {
     "data": {
      "image/png": "[encoded data removed]",
      "text/plain": [
       "<Figure size 504x288 with 1 Axes>"
      ]
     },
     "metadata": {
      "needs_background": "light"
     },
     "output_type": "display_data"
    }
   ],
   "source": [
    "plot_los_groupby('insurance')"
   ]
  },
  {
   "cell_type": "code",
   "execution_count": 24,
   "metadata": {
    "id": "5pVhC1AvgXx_"
   },
   "outputs": [
    {
     "data": {
      "image/png": "[encoded data removed]",
      "text/plain": [
       "<Figure size 504x288 with 1 Axes>"
      ]
     },
     "metadata": {
      "needs_background": "light"
     },
     "output_type": "display_data"
    }
   ],
   "source": [
    "boxplot_los_groupby('insurance', los_range=(-5, 30), size=(7, 4))"
   ]
  },
  {
   "cell_type": "code",
   "execution_count": 25,
   "metadata": {
    "id": "ZCtbwKYvgbU6"
   },
   "outputs": [
    {
     "data": {
      "text/plain": [
       "MARRIED     195074\n",
       "SINGLE      179935\n",
       "NaN          66058\n",
       "WIDOWED      48799\n",
       "DIVORCED     33699\n",
       "Name: marital_status, dtype: int64"
      ]
     },
     "execution_count": 25,
     "metadata": {},
     "output_type": "execute_result"
    }
   ],
   "source": [
    "df['marital_status'].value_counts(dropna=False)"
   ]
  },
  {
   "cell_type": "code",
   "execution_count": 26,
   "metadata": {
    "id": "HoVVh2x3gpCH"
   },
   "outputs": [
    {
     "data": {
      "text/plain": [
       "MARRIED              195074\n",
       "SINGLE               179935\n",
       "UNKNOWN (DEFAULT)     66058\n",
       "WIDOWED               48799\n",
       "DIVORCED              33699\n",
       "Name: marital_status, dtype: int64"
      ]
     },
     "execution_count": 26,
     "metadata": {},
     "output_type": "execute_result"
    }
   ],
   "source": [
    "# Replacing NAs as'UNKNOWN'\n",
    "df['marital_status'] = df['marital_status'].fillna('UNKNOWN (DEFAULT)')\n",
    "df['marital_status'].value_counts(dropna=False)"
   ]
  },
  {
   "cell_type": "code",
   "execution_count": 27,
   "metadata": {
    "id": "JkhpPMrRgs2-"
   },
   "outputs": [
    {
     "data": {
      "image/png": "[encoded data removed]",
      "text/plain": [
       "<Figure size 504x288 with 1 Axes>"
      ]
     },
     "metadata": {
      "needs_background": "light"
     },
     "output_type": "display_data"
    }
   ],
   "source": [
    "plot_los_groupby('marital_status')"
   ]
  },
  {
   "cell_type": "code",
   "execution_count": 28,
   "metadata": {
    "id": "vpmoft4jg-6R"
   },
   "outputs": [
    {
     "data": {
      "image/png": "[encoded data removed]",
      "text/plain": [
       "<Figure size 576x288 with 1 Axes>"
      ]
     },
     "metadata": {
      "needs_background": "light"
     },
     "output_type": "display_data"
    }
   ],
   "source": [
    "boxplot_los_groupby('marital_status')"
   ]
  },
  {
   "cell_type": "markdown",
   "metadata": {
    "id": "u5oE7l6MhR2K"
   },
   "source": [
    "**ICD9 coding methodolog: the diagnosis codes are arranged are as follows:**\n",
    "\n",
    "001–139: infectious and parasitic diseases\n",
    "\n",
    "140–239: neoplasms\n",
    "\n",
    "240–279: endocrine, nutritional and metabolic diseases, and immunity disorders\n",
    "\n",
    "280–289: diseases of the blood and blood-forming organs\n",
    "\n",
    "290–319: mental disorders\n",
    "\n",
    "320–389: diseases of the nervous system and sense organs\n",
    "\n",
    "390–459: diseases of the circulatory system\n",
    "\n",
    "460–519: diseases of the respiratory system\n",
    "\n",
    "520–579: diseases of the digestive system\n",
    "\n",
    "580–629: diseases of the genitourinary system\n",
    "\n",
    "630–679: complications of pregnancy, childbirth, and the puerperium\n",
    "\n",
    "680–709: diseases of the skin and subcutaneous tissue\n",
    "\n",
    "710–739: diseases of the musculoskeletal system and connective tissue\n",
    "\n",
    "740–759: congenital anomalies\n",
    "\n",
    "760–779: certain conditions originating in the perinatal period\n",
    "\n",
    "780–799: symptoms, signs, and ill-defined conditions\n",
    "\n",
    "800–999: injury and poisoning\n",
    "\n",
    "E and V codes: external causes of injury and supplemental classification, using 999 as placeholder even though it overlaps with complications of medical care\n",
    "\n",
    "Source of these categories: https://en.wikipedia.org/wiki/List_of_ICD-9_codes"
   ]
  },
  {
   "cell_type": "code",
   "execution_count": 29,
   "metadata": {
    "id": "nbhuyLjGdg7d"
   },
   "outputs": [
    {
     "data": {
      "text/html": [
       "<div>\n",
       "<style scoped>\n",
       "    .dataframe tbody tr th:only-of-type {\n",
       "        vertical-align: middle;\n",
       "    }\n",
       "\n",
       "    .dataframe tbody tr th {\n",
       "        vertical-align: top;\n",
       "    }\n",
       "\n",
       "    .dataframe thead th {\n",
       "        text-align: right;\n",
       "    }\n",
       "</style>\n",
       "<table border=\"1\" class=\"dataframe\">\n",
       "  <thead>\n",
       "    <tr style=\"text-align: right;\">\n",
       "      <th></th>\n",
       "      <th>subject_id</th>\n",
       "      <th>hadm_id</th>\n",
       "      <th>seq_num</th>\n",
       "      <th>icd_code</th>\n",
       "      <th>icd_version</th>\n",
       "    </tr>\n",
       "  </thead>\n",
       "  <tbody>\n",
       "    <tr>\n",
       "      <th>0</th>\n",
       "      <td>15734973</td>\n",
       "      <td>20475282</td>\n",
       "      <td>3</td>\n",
       "      <td>2825</td>\n",
       "      <td>9</td>\n",
       "    </tr>\n",
       "    <tr>\n",
       "      <th>1</th>\n",
       "      <td>15734973</td>\n",
       "      <td>20475282</td>\n",
       "      <td>2</td>\n",
       "      <td>V0251</td>\n",
       "      <td>9</td>\n",
       "    </tr>\n",
       "    <tr>\n",
       "      <th>2</th>\n",
       "      <td>15734973</td>\n",
       "      <td>20475282</td>\n",
       "      <td>5</td>\n",
       "      <td>V270</td>\n",
       "      <td>9</td>\n",
       "    </tr>\n",
       "    <tr>\n",
       "      <th>3</th>\n",
       "      <td>15734973</td>\n",
       "      <td>20475282</td>\n",
       "      <td>1</td>\n",
       "      <td>64891</td>\n",
       "      <td>9</td>\n",
       "    </tr>\n",
       "    <tr>\n",
       "      <th>4</th>\n",
       "      <td>15734973</td>\n",
       "      <td>20475282</td>\n",
       "      <td>4</td>\n",
       "      <td>66481</td>\n",
       "      <td>9</td>\n",
       "    </tr>\n",
       "  </tbody>\n",
       "</table>\n",
       "</div>"
      ],
      "text/plain": [
       "   subject_id   hadm_id  seq_num icd_code  icd_version\n",
       "0    15734973  20475282        3     2825            9\n",
       "1    15734973  20475282        2    V0251            9\n",
       "2    15734973  20475282        5     V270            9\n",
       "3    15734973  20475282        1    64891            9\n",
       "4    15734973  20475282        4    66481            9"
      ]
     },
     "execution_count": 29,
     "metadata": {},
     "output_type": "execute_result"
    }
   ],
   "source": [
    "df_diagcode.head()"
   ]
  },
  {
   "cell_type": "code",
   "execution_count": 30,
   "metadata": {
    "id": "085YVcL9dOXs"
   },
   "outputs": [
    {
     "name": "stdout",
     "output_type": "stream",
     "text": [
      "['2825' 'V0251' 'V270' ... 'T6101XA' 'S92502A' 'Z13220'] 27170\n"
     ]
    }
   ],
   "source": [
    "print(df_diagcode['icd_code'].unique(), len(df_diagcode['icd_code'].unique()))"
   ]
  },
  {
   "cell_type": "code",
   "execution_count": 31,
   "metadata": {
    "id": "zjEsG4bpdUsv"
   },
   "outputs": [
    {
     "name": "stdout",
     "output_type": "stream",
     "text": [
      "[ 9 10] 2\n"
     ]
    }
   ],
   "source": [
    "print(df_diagcode['icd_version'].unique(), len(df_diagcode['icd_version'].unique()))"
   ]
  },
  {
   "cell_type": "code",
   "execution_count": 32,
   "metadata": {
    "id": "q5IjzIPZhBnZ"
   },
   "outputs": [],
   "source": [
    "# Filter out E and V codes since processing will be done on the numeric first 3 values\n",
    "df_diagcode['recode'] = df_diagcode['icd_code'][df_diagcode['icd_version'] == 9]\n",
    "df_diagcode['recode'] = df_diagcode['recode'][~df_diagcode['recode'].str.contains(\"[a-zA-Z]\").fillna(False)]\n",
    "df_diagcode['recode'].fillna(value='999', inplace=True)"
   ]
  },
  {
   "cell_type": "code",
   "execution_count": 33,
   "metadata": {
    "id": "CFmOC8GEhfeO"
   },
   "outputs": [],
   "source": [
    "df_diagcode['recode'] = df_diagcode['recode'].str.slice(start=0, stop=3, step=1)\n",
    "df_diagcode['recode'] = df_diagcode['recode'].astype(int)"
   ]
  },
  {
   "cell_type": "code",
   "execution_count": 34,
   "metadata": {
    "id": "l_zG-AgId6nG"
   },
   "outputs": [
    {
     "name": "stdout",
     "output_type": "stream",
     "text": [
      "[282 999 648 664 659 642 645 784 652 646 656 756 663 647  54 724 658 666\n",
      " 661 340 654 655 746 665 218 564 644 660 653 668 349 599 244 354 496 530\n",
      " 568 401 625 620 780 346 626 792 651 641 242 669 245 614  41 287 650 682\n",
      " 782 295 596 788 220 671 649 289 701 278 327 272 789 309 315 285 672 389\n",
      " 493 311 698 280 674 673 576 300 616 795 615 670 624 252 227 600 250 362\n",
      " 528 579 733 556 575 585 535 331 532 403 583 781 458 296 577 783 294   8\n",
      " 372 112 437 584 427 486 618 276 722 356 715 518 718 736 477 939 344 690\n",
      " 271 592 553 221 305 332 193 721 998 555 716 117 567 274 153 569 414 413\n",
      " 286 997 562 453 415 623 369 462 288 438 515 345 617 591 557 574 226  42\n",
      " 492 240 185 197 560 198 441 440 425 292 424 428 657 552 412 150 196 151\n",
      " 996 426 396 397 571 266 338 241 802 852 719 465 511 482 514  70 607 787\n",
      " 521 707 459 253  38 157 211 573 790 995 263 742 123 333 202 565 517 135\n",
      " 466 304 611 785 235 593 433 314 473  78 735 443 239 695 293 867 918 416\n",
      " 277 512 203 753 726 357 713 351 729 727 905 728 745 298 275 173 454 232\n",
      " 366 470 738 188 731 256 824 685 174 365 337 536 444 155 799 455 319 303\n",
      " 323 434 273 786 442 759 747 558 162 796 281 696 516 355 255 754 734 710\n",
      " 429 578 421 730 324 507 452 714 183 410 903 810 807 860 723 737 711 712\n",
      " 627 621  79 793 373 590 189 693 430 508 154 268  53 791 991 284 840 172\n",
      " 570 550 608 709 919 478 967 348 205 527 411 191 238 720 805 182 317 200\n",
      " 491 566 572 603 147 743 519  40 456 537 378 322 447 494 290 291 808 806\n",
      " 359 159 533 457 402 908 823 845 581 662 484 510 204 347 725 110 386 352\n",
      " 379 353 161 251 343 588 706   9 970 127 692 909 705 170 261 307 755 891\n",
      " 481 342  46 843 604 595 404 283 423 812 432 934 431 820 969 368 375 302\n",
      " 320 794 955 388 907 199 398 965 848 972 942 948 629 628 633 757 765 540\n",
      " 779 774 225 923 873 881 813 958 877 643 924  34 752 435 487 966 451 446\n",
      " 180 358 420 301 717 758 771 769 884 501 694 513 766 776 770 778 764 681\n",
      " 750 952 749 233 394 853 228 801 800 310 922 377 490 219 212 171 775 580\n",
      " 118 913 531 382 334 892 890 964 380 194 935 959 214  47 187 405  97 201\n",
      " 839 914 634 732 686 131 138 980 963 882 158 586 587 971 523 836 844 184\n",
      " 990 237 136 525 874 834 534 480 920 851 886 133 767 741 341 751 760 461\n",
      " 880 156 773 336 821 863  88 846 312 916 861 811 335 868 864 822 605 152\n",
      " 962 279 744 921 763 870 522 449 318 270 297 210 213 149 933 632 815 816\n",
      " 879 862 772 761 243 224 265 207 374  15 704 702 994 866   2  52 422 983\n",
      " 216 691 906 308 803 847 164 524 350 842 594 176 830 910  35 520 850 526\n",
      " 825 602  31 917 246 837  94 299 460 601 597 529 163 777 395 762 945 223\n",
      " 306 582 464  33 639   5 944 215 748 865 835 697 495 475 383 230  75 463\n",
      " 975 872 259 115 680 179 448 485 622 831 541 826 832 814 768 208 610 269\n",
      " 325 376  99 330  77 684 367 871 471 875 619  13 506 130 897 640 360 257\n",
      " 120 635 936 708 598 828 902 878 364 542 676 700 502   3 883 960 804 911\n",
      " 950 141 987 370 384 901  96 985 543 833 817 417 195 900 956 483 236 385\n",
      " 551 894  16  91 893 938   4 912 391 192 114 142 472 145 941 703  11  17\n",
      " 231 313 854 111 381  57 137 160  49 262  85 930 175  12 953  61 474  39\n",
      " 361 915 932 186 957  48 927 371 992 500 258 134 869   7  98 445 926  84\n",
      " 838  21 977 146 841   6  82 254 982 667 326 974 896 895 390 683 675 928\n",
      "  23 968  93 961 249 217  58 951 128 885 612 144 989 876  30  27 937 339\n",
      " 321 267 209  87 973 139 943  14 538  32 206 904 260 436 606 190 363 797\n",
      " 925 819 116 829 122 132 677 947 488 988  25 476 589  36 887 148 316 234\n",
      " 129 387  86 986 976  45  66 678 140 143 229  18 827 125 954 931  56  55\n",
      " 946 393 981 539 121 949  92 637 818  10 929 126 264 104  65 631 630  95\n",
      " 978 993  59 798 984 679  83  90  74 636 181 739] 894\n"
     ]
    }
   ],
   "source": [
    "print(df_diagcode['recode'].unique(), len(df_diagcode['recode'].unique()))"
   ]
  },
  {
   "cell_type": "code",
   "execution_count": 35,
   "metadata": {
    "id": "wDPFwrjfhE_W"
   },
   "outputs": [],
   "source": [
    "# ICD-9 Main Category ranges\n",
    "icd9_ranges = [(1, 140), (140, 240), (240, 280), (280, 290), (290, 320), (320, 390), \n",
    "               (390, 460), (460, 520), (520, 580), (580, 630), (630, 680), (680, 710),\n",
    "               (710, 740), (740, 760), (760, 780), (780, 800), (800, 1000), (1000, 2000)]\n",
    "\n",
    "# Associated category names\n",
    "diag_dict = {0: 'infectious', 1: 'neoplasms', 2: 'endocrine', 3: 'blood',\n",
    "             4: 'mental', 5: 'nervous', 6: 'circulatory', 7: 'respiratory',\n",
    "             8: 'digestive', 9: 'genitourinary', 10: 'pregnancy', 11: 'skin', \n",
    "             12: 'muscular', 13: 'congenital', 14: 'prenatal', 15: 'misc',\n",
    "             16: 'injury', 17: 'misc'}\n",
    "\n",
    "# Re-code in terms of integer\n",
    "for num, cat_range in enumerate(icd9_ranges):\n",
    "    df_diagcode['recode'] = np.where(df_diagcode['recode'].between(cat_range[0],cat_range[1]), \n",
    "            num, df_diagcode['recode'])\n",
    "    \n",
    "# Convert integer to category name using diag_dict\n",
    "df_diagcode['recode'] = df_diagcode['recode']\n",
    "df_diagcode['cat'] = df_diagcode['recode'].replace(diag_dict)"
   ]
  },
  {
   "cell_type": "code",
   "execution_count": 36,
   "metadata": {
    "id": "PsCFbTR_hscf"
   },
   "outputs": [],
   "source": [
    "# Create list of diagnoses for each admission\n",
    "hadm_list = df_diagcode.groupby('hadm_id')['cat'].apply(list).reset_index()"
   ]
  },
  {
   "cell_type": "code",
   "execution_count": 37,
   "metadata": {
    "id": "EkislsAbh1S3"
   },
   "outputs": [],
   "source": [
    "# Convert diagnoses list into hospital admission-item matrix\n",
    "hadm_item = pd.get_dummies(hadm_list['cat'].apply(pd.Series).stack()).sum(level=0)"
   ]
  },
  {
   "cell_type": "code",
   "execution_count": 38,
   "metadata": {
    "id": "qhFM4DqHiA6w"
   },
   "outputs": [],
   "source": [
    "# Join the above created dataset using hadm_id to the hadm_list\n",
    "hadm_item = hadm_item.join(hadm_list['hadm_id'], how=\"outer\")"
   ]
  },
  {
   "cell_type": "code",
   "execution_count": 39,
   "metadata": {
    "id": "ej3JxMyrio4H"
   },
   "outputs": [],
   "source": [
    "# Finally merging with main admissions df\n",
    "df = df.merge(hadm_item, how='inner', on='hadm_id')"
   ]
  },
  {
   "cell_type": "code",
   "execution_count": 40,
   "metadata": {
    "id": "oSQb_t2kiyfh"
   },
   "outputs": [
    {
     "data": {
      "image/png": "[encoded data removed]",
      "text/plain": [
       "<Figure size 504x360 with 1 Axes>"
      ]
     },
     "metadata": {},
     "output_type": "display_data"
    }
   ],
   "source": [
    "# Explore median LOS by diagnosis category as defined above\n",
    "diag_cat_list = ['skin', 'infectious',  'misc', 'genitourinary', 'neoplasms', 'blood', 'respiratory', \n",
    "                 'congenital','nervous', 'muscular', 'digestive', 'mental', 'endocrine', 'injury',\n",
    "                 'circulatory', 'prenatal',  'pregnancy']\n",
    "\n",
    "results = []\n",
    "for variable in diag_cat_list:\n",
    "    results.append(df[[variable, 'LOS']].groupby(variable).median().reset_index().values[1][1])\n",
    "\n",
    "sns.set(style=\"whitegrid\")\n",
    "\n",
    "fig, ax = plt.subplots(figsize=(7,5))\n",
    "ind = range(len(results))\n",
    "ax.barh(ind, results, align='edge', color = '#55a868', alpha=0.8)\n",
    "ax.set_yticks(ind)\n",
    "ax.set_yticklabels(diag_cat_list)\n",
    "ax.set_xlabel('Median Length of Stay (days)')\n",
    "ax.tick_params(left=False, right=False, top=False) \n",
    "ax.set_title('Comparison of Diagnoses'.format(variable))\n",
    "plt.show();"
   ]
  },
  {
   "cell_type": "code",
   "execution_count": 41,
   "metadata": {
    "id": "TotwVr3li1AP"
   },
   "outputs": [
    {
     "data": {
      "text/plain": [
       "69211"
      ]
     },
     "execution_count": 41,
     "metadata": {},
     "output_type": "execute_result"
    }
   ],
   "source": [
    "df_icu['hadm_id'].nunique()"
   ]
  },
  {
   "cell_type": "code",
   "execution_count": 42,
   "metadata": {
    "id": "C0zMEwekjJtx"
   },
   "outputs": [
    {
     "data": {
      "text/plain": [
       "Index(['subject_id', 'hadm_id', 'stay_id', 'first_careunit', 'last_careunit',\n",
       "       'intime', 'outtime', 'los'],\n",
       "      dtype='object')"
      ]
     },
     "execution_count": 42,
     "metadata": {},
     "output_type": "execute_result"
    }
   ],
   "source": [
    "df_icu.keys()"
   ]
  },
  {
   "cell_type": "code",
   "execution_count": 43,
   "metadata": {
    "id": "UH4oEaO3jMtZ"
   },
   "outputs": [
    {
     "data": {
      "text/plain": [
       "array(['Trauma SICU (TSICU)', 'Neuro Stepdown',\n",
       "       'Coronary Care Unit (CCU)', 'Neuro Intermediate',\n",
       "       'Medical Intensive Care Unit (MICU)',\n",
       "       'Cardiac Vascular Intensive Care Unit (CVICU)',\n",
       "       'Surgical Intensive Care Unit (SICU)',\n",
       "       'Neuro Surgical Intensive Care Unit (Neuro SICU)',\n",
       "       'Medical/Surgical Intensive Care Unit (MICU/SICU)'], dtype=object)"
      ]
     },
     "execution_count": 43,
     "metadata": {},
     "output_type": "execute_result"
    }
   ],
   "source": [
    "df_icu['first_careunit'].unique()"
   ]
  },
  {
   "cell_type": "code",
   "execution_count": 44,
   "metadata": {
    "id": "CsFZNKxxjQ0G"
   },
   "outputs": [],
   "source": [
    "# Converting different categories of first care unit into ICU and NICU groups\n",
    "df_icu['first_careunit'].replace({'Coronary Care Unit (CCU)': 'ICU',\n",
    "                                  'Neuro Stepdown': 'NICU',\n",
    "                                  'Neuro Intermediate': 'NICU',\n",
    "                                  'Cardiac Vascular Intensive Care Unit (CVICU)': \"ICU\",\n",
    "                                  'Neuro Surgical Intensive Care Unit (Neuro SICU)': 'ICU',\n",
    "                                  'Medical/Surgical Intensive Care Unit (MICU/SICU)': 'ICU',\n",
    "                                  'Medical Intensive Care Unit (MICU)': 'ICU',\n",
    "                                  'Surgical Intensive Care Unit (SICU)': 'ICU',\n",
    "                                  'Trauma SICU (TSICU)': 'ICU'}, inplace=True)"
   ]
  },
  {
   "cell_type": "code",
   "execution_count": 45,
   "metadata": {
    "id": "QSOazORhjgIh"
   },
   "outputs": [],
   "source": [
    "df_icu['cat'] = df_icu['first_careunit']\n",
    "icu_list = df_icu.groupby('hadm_id')['cat'].apply(list).reset_index()"
   ]
  },
  {
   "cell_type": "code",
   "execution_count": 46,
   "metadata": {
    "id": "SF9JuVpXjkcq"
   },
   "outputs": [
    {
     "data": {
      "text/plain": [
       "ICU     73846\n",
       "NICU     2694\n",
       "Name: first_careunit, dtype: int64"
      ]
     },
     "execution_count": 46,
     "metadata": {},
     "output_type": "execute_result"
    }
   ],
   "source": [
    "df_icu['first_careunit'].value_counts()"
   ]
  },
  {
   "cell_type": "code",
   "execution_count": 47,
   "metadata": {
    "id": "9awPc_zGjoia"
   },
   "outputs": [],
   "source": [
    "# Create admission-ICU matrix\n",
    "icu_item = pd.get_dummies(icu_list['cat'].apply(pd.Series).stack()).sum(level=0)\n",
    "icu_item[icu_item >= 1] = 1\n",
    "icu_item = icu_item.join(icu_list['hadm_id'], how=\"outer\")"
   ]
  },
  {
   "cell_type": "code",
   "execution_count": 48,
   "metadata": {
    "id": "gIR26ZT3kpob"
   },
   "outputs": [],
   "source": [
    "# Merge ICU data with main dataFrame\n",
    "df = df.merge(icu_item, how='outer', on='hadm_id')"
   ]
  },
  {
   "cell_type": "code",
   "execution_count": 49,
   "metadata": {
    "id": "BlZo4a15k8Oj"
   },
   "outputs": [],
   "source": [
    "# Replace NA with 0\n",
    "df['ICU'].fillna(value=0, inplace=True)\n",
    "df['NICU'].fillna(value=0, inplace=True)"
   ]
  },
  {
   "cell_type": "markdown",
   "metadata": {
    "id": "xwrjXfmvlBTZ"
   },
   "source": [
    "Final preparation of the dataset"
   ]
  },
  {
   "cell_type": "code",
   "execution_count": 50,
   "metadata": {
    "id": "uiWbih2bk_TS"
   },
   "outputs": [
    {
     "data": {
      "text/plain": [
       "Index(['subject_id', 'hadm_id', 'admittime', 'deathtime', 'admission_type',\n",
       "       'admission_location', 'discharge_location', 'insurance', 'language',\n",
       "       'marital_status', 'ethnicity', 'ADMITTIME', 'LOS', 'DECEASED', 'blood',\n",
       "       'circulatory', 'congenital', 'digestive', 'endocrine', 'genitourinary',\n",
       "       'infectious', 'injury', 'mental', 'misc', 'muscular', 'neoplasms',\n",
       "       'nervous', 'pregnancy', 'prenatal', 'respiratory', 'skin', 'ICU',\n",
       "       'NICU'],\n",
       "      dtype='object')"
      ]
     },
     "execution_count": 50,
     "metadata": {},
     "output_type": "execute_result"
    }
   ],
   "source": [
    "df.keys()"
   ]
  },
  {
   "cell_type": "code",
   "execution_count": 51,
   "metadata": {
    "id": "NP8CfLu1lAwx"
   },
   "outputs": [],
   "source": [
    "df.drop(columns=['admission_location','subject_id', 'hadm_id', 'ADMITTIME', 'admittime',\n",
    "                'discharge_location', 'language',\n",
    "                'DECEASED',  'deathtime'], inplace=True)"
   ]
  },
  {
   "cell_type": "code",
   "execution_count": 52,
   "metadata": {
    "id": "0eXebEAkmOAF"
   },
   "outputs": [
    {
     "data": {
      "text/plain": [
       "Index(['admission_type', 'insurance', 'marital_status', 'ethnicity', 'LOS',\n",
       "       'blood', 'circulatory', 'congenital', 'digestive', 'endocrine',\n",
       "       'genitourinary', 'infectious', 'injury', 'mental', 'misc', 'muscular',\n",
       "       'neoplasms', 'nervous', 'pregnancy', 'prenatal', 'respiratory', 'skin',\n",
       "       'ICU', 'NICU'],\n",
       "      dtype='object')"
      ]
     },
     "execution_count": 52,
     "metadata": {},
     "output_type": "execute_result"
    }
   ],
   "source": [
    "df.keys()"
   ]
  },
  {
   "cell_type": "code",
   "execution_count": 53,
   "metadata": {
    "id": "jgZ_ZzP-mRS1"
   },
   "outputs": [],
   "source": [
    "# Filtering only admission with LOS less than 40 days to reduce the skewness of the data.\n",
    "df = df[df['LOS'] <40]"
   ]
  },
  {
   "cell_type": "code",
   "execution_count": 54,
   "metadata": {
    "id": "NwJ5U03OmtwO"
   },
   "outputs": [],
   "source": [
    "# Randomly splitting the data into test and train with 20% and 80% distribution. Using the train data to generate\n",
    "# synthetic data and keeping the test data seperate for evaluation purpose\n",
    "\n",
    "los_use, los_predict = train_test_split(df, test_size=0.2, random_state=25)"
   ]
  },
  {
   "cell_type": "code",
   "execution_count": 55,
   "metadata": {
    "id": "x6-B_s8mmylt"
   },
   "outputs": [],
   "source": [
    "# Writing the train and test files into csv for further use \n",
    "# Note: Train dataset will be used for generating synthetic data using CT-GAN.\n",
    "# Test dataset will be used for evaluation of models\n",
    "\n",
    "los_use.to_csv(\"../MIMIC-IV/los_usecase.csv\", index = False)\n",
    "los_predict.to_csv(\"../MIMIC-IV/los_predict.csv\", index = False)"
   ]
  }
 ],
 "metadata": {
  "colab": {
   "authorship_tag": "ABX9TyPC34XLJmUevl+rWPMHDxeI",
   "collapsed_sections": [],
   "name": "LOS-real-dataset-preparation.ipynb",
   "private_outputs": true,
   "provenance": []
  },
  "kernelspec": {
   "display_name": "Python 3 (ipykernel)",
   "language": "python",
   "name": "python3"
  },
  "language_info": {
   "codemirror_mode": {
    "name": "ipython",
    "version": 3
   },
   "file_extension": ".py",
   "mimetype": "text/x-python",
   "name": "python",
   "nbconvert_exporter": "python",
   "pygments_lexer": "ipython3",
   "version": "3.9.5"
  }
 },
 "nbformat": 4,
 "nbformat_minor": 1
}
